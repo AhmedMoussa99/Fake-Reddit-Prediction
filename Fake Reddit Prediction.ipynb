{
 "cells": [
  {
   "cell_type": "markdown",
   "id": "e799836d",
   "metadata": {},
   "source": [
    "# Problem Formulation\n",
    "## Define the problem\n",
    "- Because of the rise of social networks and their involvement in other spheres such as politics, false information on the Internet has produced a slew of social issues.\n",
    "\n",
    "- We are going to predict if a specific reddit post is fake news or not, by looking at its title.\n",
    "\n",
    "## What is the input?\n",
    "The input is the text feature. it contains various forms of words.\n",
    "\n",
    "## What is the output?\n",
    "If a specific reddit post is fake news or not. In the dataset, the label column is output.\n",
    "\n",
    "## What data mining function is required?\n",
    "In this case, it will be binary Classification that separates data points into different classes (fake or not / 0 or 1) which If a specific reddit post is fake news or not.\n",
    "## What could be the challenges?\n",
    "- The data contains various forms of words.\n",
    "\n",
    "- The datasets have outliers values.\n",
    "\n",
    "- predict a specific reddit post is fake news or not, by looking at its title.\n",
    "\n",
    "## What is the impact?\n",
    "When I create a new system and give it a Feature, it can decide whether If a specific reddit post is fake news or not.\n",
    "\n",
    "## What is an ideal solution?\n",
    "According to my subsequent attempts, Bayesian Search and Random Forest Classifier with Cross Validation. is the best approach because it provides me the highest kaggle score.\n",
    "\n",
    "The Bayesian Search use of intelligence to pick the next set of hyperparameters which will improve the model performance."
   ]
  },
  {
   "cell_type": "markdown",
   "id": "aac4922c",
   "metadata": {},
   "source": [
    "# Implementation\n",
    "## Steps\n",
    "## What preprocessing steps are used?\n",
    "\n",
    "- Remove outliers.\n",
    "\n",
    "- Cleaning the text.\n",
    "\n",
    "- Compute the frequency of the words.\n",
    "\n",
    "## What is the experimental protocol used and how was it carried out?\n",
    "\n",
    "- Read the data using the function \"read_csv\"\n",
    "\n",
    "- Cleaning the text by I'll remove any html tags, digits, single letter chars, stopwords, punctuation, the noise data, convert\n",
    "all whitespaces to single wspace and make stemming.\n",
    "\n",
    "- I will split the data to use Holdout method is split the training dataset to training data and validation data using \"train_test_split\".\n",
    "\n",
    "- I use validation and Cross validation for training the model well.\n",
    "\n",
    "- Determine the optimal values for a given model by using GridSearch, RandomSearch and BayesianSearch.\n",
    "\n",
    "- I use Xgboost, Random Forest and Logistic Regression to fit the model."
   ]
  },
  {
   "cell_type": "markdown",
   "id": "07bf2c0b",
   "metadata": {},
   "source": [
    "### Important Libraries"
   ]
  },
  {
   "cell_type": "code",
   "execution_count": 2,
   "id": "1bfb66f3",
   "metadata": {},
   "outputs": [],
   "source": [
    "import numpy as np # linear algebra\n",
    "import pandas as pd # data processing, CSV file I/O (e.g. pd.read_csv)\n",
    "import string as st#Common string operations\n",
    "import re#Regular expression operations\n",
    "import nltk#Natural Language Toolkit\n",
    "from nltk.tokenize import word_tokenize#Tokenizers divide strings into lists of substrings\n",
    "from nltk.corpus import stopwords#remove stop words\n",
    "from sklearn.pipeline import Pipeline#create pipline\n",
    "from sklearn.model_selection import GridSearchCV, RandomizedSearchCV#model tuning\n",
    "from xgboost import XGBClassifier#XGBClassifier model for classification\n",
    "from nltk.stem.snowball import SnowballStemmer\n",
    "import matplotlib.pyplot as plt #to visualization \n",
    "import seaborn as sns#to visualization\n",
    "from sklearn.model_selection import train_test_split#split text into train and test \n",
    "from sklearn.feature_extraction.text import TfidfVectorizer#vectorize text into numeric useing Tfidf\n",
    "import warnings #handling warning \n",
    "warnings.filterwarnings('ignore')\n",
    "# Provides train/test indices to split data into train/test sets\n",
    "from sklearn.model_selection import PredefinedSplit\n",
    "from sklearn.ensemble import RandomForestClassifier\n",
    "from sklearn.neural_network import MLPClassifier\n",
    "from skopt import BayesSearchCV "
   ]
  },
  {
   "cell_type": "code",
   "execution_count": 3,
   "id": "903a0d1a",
   "metadata": {},
   "outputs": [
    {
     "name": "stderr",
     "output_type": "stream",
     "text": [
      "[nltk_data] Downloading package punkt to\n",
      "[nltk_data]     C:\\Users\\LAB\\AppData\\Roaming\\nltk_data...\n",
      "[nltk_data]   Package punkt is already up-to-date!\n",
      "[nltk_data] Downloading package stopwords to\n",
      "[nltk_data]     C:\\Users\\LAB\\AppData\\Roaming\\nltk_data...\n",
      "[nltk_data]   Package stopwords is already up-to-date!\n",
      "[nltk_data] Downloading package wordnet to\n",
      "[nltk_data]     C:\\Users\\LAB\\AppData\\Roaming\\nltk_data...\n",
      "[nltk_data]   Package wordnet is already up-to-date!\n"
     ]
    },
    {
     "data": {
      "text/plain": [
       "True"
      ]
     },
     "execution_count": 3,
     "metadata": {},
     "output_type": "execute_result"
    }
   ],
   "source": [
    "nltk.download('punkt')#download punkt pakages from nltk library\n",
    "nltk.download('stopwords')#download stopwords pakages from nltk library\n",
    "nltk.download('wordnet')#download wordnet pakages from nltk library"
   ]
  },
  {
   "cell_type": "code",
   "execution_count": 4,
   "id": "09727550",
   "metadata": {},
   "outputs": [],
   "source": [
    "# reading the training dataset \n",
    "df_train = pd.read_csv('xy_train.csv') \n",
    "# reading the testing dataset \n",
    "df_test = pd.read_csv('x_test.csv') "
   ]
  },
  {
   "cell_type": "code",
   "execution_count": 5,
   "id": "3023ec1f",
   "metadata": {},
   "outputs": [
    {
     "data": {
      "text/html": [
       "<div>\n",
       "<style scoped>\n",
       "    .dataframe tbody tr th:only-of-type {\n",
       "        vertical-align: middle;\n",
       "    }\n",
       "\n",
       "    .dataframe tbody tr th {\n",
       "        vertical-align: top;\n",
       "    }\n",
       "\n",
       "    .dataframe thead th {\n",
       "        text-align: right;\n",
       "    }\n",
       "</style>\n",
       "<table border=\"1\" class=\"dataframe\">\n",
       "  <thead>\n",
       "    <tr style=\"text-align: right;\">\n",
       "      <th></th>\n",
       "      <th>id</th>\n",
       "      <th>text</th>\n",
       "      <th>label</th>\n",
       "    </tr>\n",
       "  </thead>\n",
       "  <tbody>\n",
       "    <tr>\n",
       "      <th>0</th>\n",
       "      <td>265723</td>\n",
       "      <td>A group of friends began to volunteer at a hom...</td>\n",
       "      <td>0</td>\n",
       "    </tr>\n",
       "    <tr>\n",
       "      <th>1</th>\n",
       "      <td>284269</td>\n",
       "      <td>British Prime Minister @Theresa_May on Nerve A...</td>\n",
       "      <td>0</td>\n",
       "    </tr>\n",
       "    <tr>\n",
       "      <th>2</th>\n",
       "      <td>207715</td>\n",
       "      <td>In 1961, Goodyear released a kit that allows P...</td>\n",
       "      <td>0</td>\n",
       "    </tr>\n",
       "    <tr>\n",
       "      <th>3</th>\n",
       "      <td>551106</td>\n",
       "      <td>Happy Birthday, Bob Barker! The Price Is Right...</td>\n",
       "      <td>0</td>\n",
       "    </tr>\n",
       "    <tr>\n",
       "      <th>4</th>\n",
       "      <td>8584</td>\n",
       "      <td>Obama to Nation: 聙\"Innocent Cops and Unarmed Y...</td>\n",
       "      <td>0</td>\n",
       "    </tr>\n",
       "  </tbody>\n",
       "</table>\n",
       "</div>"
      ],
      "text/plain": [
       "       id                                               text  label\n",
       "0  265723  A group of friends began to volunteer at a hom...      0\n",
       "1  284269  British Prime Minister @Theresa_May on Nerve A...      0\n",
       "2  207715  In 1961, Goodyear released a kit that allows P...      0\n",
       "3  551106  Happy Birthday, Bob Barker! The Price Is Right...      0\n",
       "4    8584  Obama to Nation: 聙\"Innocent Cops and Unarmed Y...      0"
      ]
     },
     "execution_count": 5,
     "metadata": {},
     "output_type": "execute_result"
    }
   ],
   "source": [
    "#show heading of columns in trainig data\n",
    "df_train.head()"
   ]
  },
  {
   "cell_type": "code",
   "execution_count": 6,
   "id": "dbc04cfe",
   "metadata": {},
   "outputs": [
    {
     "data": {
      "text/html": [
       "<div>\n",
       "<style scoped>\n",
       "    .dataframe tbody tr th:only-of-type {\n",
       "        vertical-align: middle;\n",
       "    }\n",
       "\n",
       "    .dataframe tbody tr th {\n",
       "        vertical-align: top;\n",
       "    }\n",
       "\n",
       "    .dataframe thead th {\n",
       "        text-align: right;\n",
       "    }\n",
       "</style>\n",
       "<table border=\"1\" class=\"dataframe\">\n",
       "  <thead>\n",
       "    <tr style=\"text-align: right;\">\n",
       "      <th></th>\n",
       "      <th>id</th>\n",
       "      <th>text</th>\n",
       "    </tr>\n",
       "  </thead>\n",
       "  <tbody>\n",
       "    <tr>\n",
       "      <th>0</th>\n",
       "      <td>0</td>\n",
       "      <td>stargazer</td>\n",
       "    </tr>\n",
       "    <tr>\n",
       "      <th>1</th>\n",
       "      <td>1</td>\n",
       "      <td>yeah</td>\n",
       "    </tr>\n",
       "    <tr>\n",
       "      <th>2</th>\n",
       "      <td>2</td>\n",
       "      <td>PD: Phoenix car thief gets instructions from Y...</td>\n",
       "    </tr>\n",
       "    <tr>\n",
       "      <th>3</th>\n",
       "      <td>3</td>\n",
       "      <td>As Trump Accuses Iran, He Has One Problem: His...</td>\n",
       "    </tr>\n",
       "    <tr>\n",
       "      <th>4</th>\n",
       "      <td>4</td>\n",
       "      <td>\"Believers\" - Hezbollah 2011</td>\n",
       "    </tr>\n",
       "    <tr>\n",
       "      <th>...</th>\n",
       "      <td>...</td>\n",
       "      <td>...</td>\n",
       "    </tr>\n",
       "    <tr>\n",
       "      <th>59146</th>\n",
       "      <td>59146</td>\n",
       "      <td>Bicycle taxi drivers of New Delhi</td>\n",
       "    </tr>\n",
       "    <tr>\n",
       "      <th>59147</th>\n",
       "      <td>59147</td>\n",
       "      <td>Trump blows up GOP's formula for winning House...</td>\n",
       "    </tr>\n",
       "    <tr>\n",
       "      <th>59148</th>\n",
       "      <td>59148</td>\n",
       "      <td>Napoleon returns from his exile on the island ...</td>\n",
       "    </tr>\n",
       "    <tr>\n",
       "      <th>59149</th>\n",
       "      <td>59149</td>\n",
       "      <td>Deep down he always wanted to be a ballet dancer</td>\n",
       "    </tr>\n",
       "    <tr>\n",
       "      <th>59150</th>\n",
       "      <td>59150</td>\n",
       "      <td>Toddler miraculously survives 6-story fall lan...</td>\n",
       "    </tr>\n",
       "  </tbody>\n",
       "</table>\n",
       "<p>59151 rows × 2 columns</p>\n",
       "</div>"
      ],
      "text/plain": [
       "          id                                               text\n",
       "0          0                                         stargazer \n",
       "1          1                                               yeah\n",
       "2          2  PD: Phoenix car thief gets instructions from Y...\n",
       "3          3  As Trump Accuses Iran, He Has One Problem: His...\n",
       "4          4                       \"Believers\" - Hezbollah 2011\n",
       "...      ...                                                ...\n",
       "59146  59146                  Bicycle taxi drivers of New Delhi\n",
       "59147  59147  Trump blows up GOP's formula for winning House...\n",
       "59148  59148  Napoleon returns from his exile on the island ...\n",
       "59149  59149   Deep down he always wanted to be a ballet dancer\n",
       "59150  59150  Toddler miraculously survives 6-story fall lan...\n",
       "\n",
       "[59151 rows x 2 columns]"
      ]
     },
     "execution_count": 6,
     "metadata": {},
     "output_type": "execute_result"
    }
   ],
   "source": [
    "df_test"
   ]
  },
  {
   "cell_type": "code",
   "execution_count": 7,
   "id": "7165075d",
   "metadata": {},
   "outputs": [
    {
     "data": {
      "text/plain": [
       "0    32172\n",
       "1    27596\n",
       "2      232\n",
       "Name: label, dtype: int64"
      ]
     },
     "execution_count": 7,
     "metadata": {},
     "output_type": "execute_result"
    }
   ],
   "source": [
    "#check the value counts of each label\n",
    "df_train.label.value_counts()"
   ]
  },
  {
   "cell_type": "code",
   "execution_count": 8,
   "id": "a47d6f53",
   "metadata": {},
   "outputs": [
    {
     "data": {
      "image/png": "[encoded data removed]",
      "text/plain": [
       "<Figure size 640x480 with 1 Axes>"
      ]
     },
     "metadata": {},
     "output_type": "display_data"
    }
   ],
   "source": [
    "#distribution of the output \n",
    "df_train['label'].hist();"
   ]
  },
  {
   "cell_type": "code",
   "execution_count": 9,
   "id": "1d5be290",
   "metadata": {},
   "outputs": [],
   "source": [
    "#drop row of label equal 2 and take a copy of the data\n",
    "df_train = df_train[df_train.label!= 2]"
   ]
  },
  {
   "cell_type": "code",
   "execution_count": 10,
   "id": "711e25ea",
   "metadata": {},
   "outputs": [],
   "source": [
    "#label of our data \n",
    "y_train=df_train['label']"
   ]
  },
  {
   "cell_type": "code",
   "execution_count": 11,
   "id": "3acd13cc",
   "metadata": {},
   "outputs": [
    {
     "data": {
      "image/png": "[encoded data removed]",
      "text/plain": [
       "<Figure size 640x480 with 1 Axes>"
      ]
     },
     "metadata": {},
     "output_type": "display_data"
    }
   ],
   "source": [
    "#distribution of the output \n",
    "y_train.hist();"
   ]
  },
  {
   "cell_type": "code",
   "execution_count": 12,
   "id": "87afea16",
   "metadata": {},
   "outputs": [
    {
     "data": {
      "text/plain": [
       "id       0\n",
       "text     0\n",
       "label    0\n",
       "dtype: int64"
      ]
     },
     "execution_count": 12,
     "metadata": {},
     "output_type": "execute_result"
    }
   ],
   "source": [
    "# anything missing?\n",
    "df_train.isnull().sum().sort_values(ascending=False)"
   ]
  },
  {
   "cell_type": "code",
   "execution_count": 13,
   "id": "a2d95ee2",
   "metadata": {},
   "outputs": [
    {
     "name": "stdout",
     "output_type": "stream",
     "text": [
      "0\n"
     ]
    }
   ],
   "source": [
    "#check if there is any duplication in the data\n",
    "print(df_train.duplicated().sum())"
   ]
  },
  {
   "cell_type": "markdown",
   "id": "d460ac35",
   "metadata": {},
   "source": [
    "## Cleaning and preprocessing\n",
    "\n",
    "Create Function for remove any html tags, remove any digits, remove any single letter chars, convert all whitespaces to single wspace, make all lowercase words, remove any stopwords, remove any punctuation and make stemming. remove the noise data in training data."
   ]
  },
  {
   "cell_type": "code",
   "execution_count": 36,
   "id": "f1858826",
   "metadata": {},
   "outputs": [],
   "source": [
    "# for stemming algorithm\n",
    "stemmer = SnowballStemmer(\"english\")\n",
    "stop_words = set(stopwords.words(\"english\"))\n",
    "\n",
    "\n",
    "# Make Function to clean text\n",
    "def clean_text(text, for_embedding=True):\n",
    "    \"\"\" steps:\n",
    "        - remove any html tags (< /br> often found)\n",
    "        - Keep only ASCII + European Chars and whitespace, no digits\n",
    "        - remove single letter chars\n",
    "        - convert all whitespaces (tabs etc.) to single wspace\n",
    "        if not for embedding (but e.g. tdf-idf):\n",
    "        - all lowercase\n",
    "        - remove stopwords, punctuation and stemm\n",
    "        - return the clean text\n",
    "    \"\"\"\n",
    "    re_wspace = re.compile(r\"\\s+\", re.IGNORECASE)\n",
    "    re_tags = re.compile(r\"<[^>]+>\")\n",
    "    re_ASII = re.compile(r\"[^A-Za-zÀ-ž ]\", re.IGNORECASE)\n",
    "    re_single_char = re.compile(r\"\\b[A-Za-zÀ-ž]\\b\", re.IGNORECASE)\n",
    "    if for_embedding:\n",
    "        # Keep punctuation\n",
    "        re_ASII = re.compile(r\"[^A-Za-zÀ-ž,.!? ]\", re.IGNORECASE)\n",
    "        re_single_char = re.compile(r\"\\b[A-Za-zÀ-ž,.!?]\\b\", re.IGNORECASE)\n",
    "\n",
    "    text = re.sub(re_tags, \" \", text)\n",
    "    text = re.sub(re_ASII, \" \", text)\n",
    "    text = re.sub(re_single_char, \" \", text)\n",
    "    text = re.sub(re_wspace, \" \", text)\n",
    "\n",
    "    word_tokens = word_tokenize(text)\n",
    "    words_tokens_lower = [word.lower() for word in word_tokens]\n",
    "\n",
    "    if for_embedding:\n",
    "        # no stemming, lowering and punctuation / stop words removal\n",
    "        words_filtered = word_tokens\n",
    "    else:\n",
    "        words_filtered = [\n",
    "            stemmer.stem(word) for word in words_tokens_lower if word not in stop_words\n",
    "        ]\n",
    "\n",
    "    text_clean = \" \".join(words_filtered)\n",
    "    return text_clean"
   ]
  },
  {
   "cell_type": "markdown",
   "id": "a0db657e",
   "metadata": {},
   "source": [
    "##### Applying the cleaning function to the train and test data"
   ]
  },
  {
   "cell_type": "code",
   "execution_count": 37,
   "id": "8d5b8ceb",
   "metadata": {},
   "outputs": [
    {
     "name": "stdout",
     "output_type": "stream",
     "text": [
      "CPU times: total: 18.5 s\n",
      "Wall time: 18.6 s\n"
     ]
    }
   ],
   "source": [
    "%%time\n",
    "# Clean texts training data \n",
    "df_train[\"text_clean\"] = df_train.loc[df_train[\"text\"].str.len() > 0, \"text\"] # get all text data the length it greater than 0 in training data\n",
    "# call clean_text of method to apply it on text_clean feature in traing data\n",
    "df_train[\"text_clean\"] = df_train[\"text_clean\"].map(\n",
    "    lambda x: clean_text(x, for_embedding=False) if isinstance(x, str) else x  # check if text is instance of string\n",
    ") "
   ]
  },
  {
   "cell_type": "code",
   "execution_count": 38,
   "id": "394e9c39",
   "metadata": {},
   "outputs": [
    {
     "data": {
      "text/html": [
       "<div>\n",
       "<style scoped>\n",
       "    .dataframe tbody tr th:only-of-type {\n",
       "        vertical-align: middle;\n",
       "    }\n",
       "\n",
       "    .dataframe tbody tr th {\n",
       "        vertical-align: top;\n",
       "    }\n",
       "\n",
       "    .dataframe thead th {\n",
       "        text-align: right;\n",
       "    }\n",
       "</style>\n",
       "<table border=\"1\" class=\"dataframe\">\n",
       "  <thead>\n",
       "    <tr style=\"text-align: right;\">\n",
       "      <th></th>\n",
       "      <th>id</th>\n",
       "      <th>text</th>\n",
       "      <th>label</th>\n",
       "      <th>text_clean</th>\n",
       "    </tr>\n",
       "  </thead>\n",
       "  <tbody>\n",
       "    <tr>\n",
       "      <th>0</th>\n",
       "      <td>265723</td>\n",
       "      <td>A group of friends began to volunteer at a hom...</td>\n",
       "      <td>0</td>\n",
       "      <td>group friend began volunt homeless shelter nei...</td>\n",
       "    </tr>\n",
       "    <tr>\n",
       "      <th>1</th>\n",
       "      <td>284269</td>\n",
       "      <td>British Prime Minister @Theresa_May on Nerve A...</td>\n",
       "      <td>0</td>\n",
       "      <td>british prime minist theresa may nerv attack f...</td>\n",
       "    </tr>\n",
       "    <tr>\n",
       "      <th>2</th>\n",
       "      <td>207715</td>\n",
       "      <td>In 1961, Goodyear released a kit that allows P...</td>\n",
       "      <td>0</td>\n",
       "      <td>goodyear releas kit allow ps brought heel http...</td>\n",
       "    </tr>\n",
       "    <tr>\n",
       "      <th>3</th>\n",
       "      <td>551106</td>\n",
       "      <td>Happy Birthday, Bob Barker! The Price Is Right...</td>\n",
       "      <td>0</td>\n",
       "      <td>happi birthday bob barker price right host lik...</td>\n",
       "    </tr>\n",
       "    <tr>\n",
       "      <th>4</th>\n",
       "      <td>8584</td>\n",
       "      <td>Obama to Nation: 聙\"Innocent Cops and Unarmed Y...</td>\n",
       "      <td>0</td>\n",
       "      <td>obama nation innoc cop unarm young black men d...</td>\n",
       "    </tr>\n",
       "    <tr>\n",
       "      <th>...</th>\n",
       "      <td>...</td>\n",
       "      <td>...</td>\n",
       "      <td>...</td>\n",
       "      <td>...</td>\n",
       "    </tr>\n",
       "    <tr>\n",
       "      <th>59995</th>\n",
       "      <td>70046</td>\n",
       "      <td>Finish Sniper Simo H盲yh盲 during the invasion o...</td>\n",
       "      <td>0</td>\n",
       "      <td>finish sniper simo yh invas finland ussr color</td>\n",
       "    </tr>\n",
       "    <tr>\n",
       "      <th>59996</th>\n",
       "      <td>189377</td>\n",
       "      <td>Nigerian Prince Scam took $110K from Kansas ma...</td>\n",
       "      <td>1</td>\n",
       "      <td>nigerian princ scam took kansa man year later ...</td>\n",
       "    </tr>\n",
       "    <tr>\n",
       "      <th>59997</th>\n",
       "      <td>93486</td>\n",
       "      <td>Is It Safe To Smoke Marijuana During Pregnancy...</td>\n",
       "      <td>0</td>\n",
       "      <td>safe smoke marijuana pregnanc surpris answer</td>\n",
       "    </tr>\n",
       "    <tr>\n",
       "      <th>59998</th>\n",
       "      <td>140950</td>\n",
       "      <td>Julius Caesar upon realizing that everyone in ...</td>\n",
       "      <td>0</td>\n",
       "      <td>julius caesar upon realiz everyon room knife e...</td>\n",
       "    </tr>\n",
       "    <tr>\n",
       "      <th>59999</th>\n",
       "      <td>34509</td>\n",
       "      <td>Jeff Bridges Releasing 鈥楽leeping Tapes,鈥?a New...</td>\n",
       "      <td>1</td>\n",
       "      <td>jeff bridg releas leep tape new album design h...</td>\n",
       "    </tr>\n",
       "  </tbody>\n",
       "</table>\n",
       "<p>59768 rows × 4 columns</p>\n",
       "</div>"
      ],
      "text/plain": [
       "           id                                               text  label  \\\n",
       "0      265723  A group of friends began to volunteer at a hom...      0   \n",
       "1      284269  British Prime Minister @Theresa_May on Nerve A...      0   \n",
       "2      207715  In 1961, Goodyear released a kit that allows P...      0   \n",
       "3      551106  Happy Birthday, Bob Barker! The Price Is Right...      0   \n",
       "4        8584  Obama to Nation: 聙\"Innocent Cops and Unarmed Y...      0   \n",
       "...       ...                                                ...    ...   \n",
       "59995   70046  Finish Sniper Simo H盲yh盲 during the invasion o...      0   \n",
       "59996  189377  Nigerian Prince Scam took $110K from Kansas ma...      1   \n",
       "59997   93486  Is It Safe To Smoke Marijuana During Pregnancy...      0   \n",
       "59998  140950  Julius Caesar upon realizing that everyone in ...      0   \n",
       "59999   34509  Jeff Bridges Releasing 鈥楽leeping Tapes,鈥?a New...      1   \n",
       "\n",
       "                                              text_clean  \n",
       "0      group friend began volunt homeless shelter nei...  \n",
       "1      british prime minist theresa may nerv attack f...  \n",
       "2      goodyear releas kit allow ps brought heel http...  \n",
       "3      happi birthday bob barker price right host lik...  \n",
       "4      obama nation innoc cop unarm young black men d...  \n",
       "...                                                  ...  \n",
       "59995     finish sniper simo yh invas finland ussr color  \n",
       "59996  nigerian princ scam took kansa man year later ...  \n",
       "59997       safe smoke marijuana pregnanc surpris answer  \n",
       "59998  julius caesar upon realiz everyon room knife e...  \n",
       "59999  jeff bridg releas leep tape new album design h...  \n",
       "\n",
       "[59768 rows x 4 columns]"
      ]
     },
     "execution_count": 38,
     "metadata": {},
     "output_type": "execute_result"
    }
   ],
   "source": [
    "# show the training data\n",
    "df_train"
   ]
  },
  {
   "cell_type": "code",
   "execution_count": 39,
   "id": "412d7d79",
   "metadata": {},
   "outputs": [
    {
     "name": "stdout",
     "output_type": "stream",
     "text": [
      "CPU times: total: 10.4 s\n",
      "Wall time: 10.4 s\n"
     ]
    }
   ],
   "source": [
    "%%time\n",
    "# Clean texts testing data\n",
    "df_test[\"text_clean\"] = df_test.loc[df_test[\"text\"].str.len() > 0, \"text\"] # get all text data the length it greater than 0 in testing data\n",
    "# call clean_text of method to apply it on text_clean feature in testing data\n",
    "df_test[\"text_clean\"] = df_test[\"text_clean\"].map(\n",
    "    lambda x: clean_text(x, for_embedding=False) if isinstance(x, str) else x  # check if text is instance of string\n",
    ")"
   ]
  },
  {
   "cell_type": "code",
   "execution_count": 40,
   "id": "18540d1e",
   "metadata": {},
   "outputs": [
    {
     "data": {
      "text/html": [
       "<div>\n",
       "<style scoped>\n",
       "    .dataframe tbody tr th:only-of-type {\n",
       "        vertical-align: middle;\n",
       "    }\n",
       "\n",
       "    .dataframe tbody tr th {\n",
       "        vertical-align: top;\n",
       "    }\n",
       "\n",
       "    .dataframe thead th {\n",
       "        text-align: right;\n",
       "    }\n",
       "</style>\n",
       "<table border=\"1\" class=\"dataframe\">\n",
       "  <thead>\n",
       "    <tr style=\"text-align: right;\">\n",
       "      <th></th>\n",
       "      <th>id</th>\n",
       "      <th>text</th>\n",
       "      <th>text_clean</th>\n",
       "    </tr>\n",
       "  </thead>\n",
       "  <tbody>\n",
       "    <tr>\n",
       "      <th>0</th>\n",
       "      <td>0</td>\n",
       "      <td>stargazer</td>\n",
       "      <td>stargaz</td>\n",
       "    </tr>\n",
       "    <tr>\n",
       "      <th>1</th>\n",
       "      <td>1</td>\n",
       "      <td>yeah</td>\n",
       "      <td>yeah</td>\n",
       "    </tr>\n",
       "    <tr>\n",
       "      <th>2</th>\n",
       "      <td>2</td>\n",
       "      <td>PD: Phoenix car thief gets instructions from Y...</td>\n",
       "      <td>pd phoenix car thief get instruct youtub video</td>\n",
       "    </tr>\n",
       "    <tr>\n",
       "      <th>3</th>\n",
       "      <td>3</td>\n",
       "      <td>As Trump Accuses Iran, He Has One Problem: His...</td>\n",
       "      <td>trump accus iran one problem credibl</td>\n",
       "    </tr>\n",
       "    <tr>\n",
       "      <th>4</th>\n",
       "      <td>4</td>\n",
       "      <td>\"Believers\" - Hezbollah 2011</td>\n",
       "      <td>believ hezbollah</td>\n",
       "    </tr>\n",
       "    <tr>\n",
       "      <th>...</th>\n",
       "      <td>...</td>\n",
       "      <td>...</td>\n",
       "      <td>...</td>\n",
       "    </tr>\n",
       "    <tr>\n",
       "      <th>59146</th>\n",
       "      <td>59146</td>\n",
       "      <td>Bicycle taxi drivers of New Delhi</td>\n",
       "      <td>bicycl taxi driver new delhi</td>\n",
       "    </tr>\n",
       "    <tr>\n",
       "      <th>59147</th>\n",
       "      <td>59147</td>\n",
       "      <td>Trump blows up GOP's formula for winning House...</td>\n",
       "      <td>trump blow gop formula win hous race</td>\n",
       "    </tr>\n",
       "    <tr>\n",
       "      <th>59148</th>\n",
       "      <td>59148</td>\n",
       "      <td>Napoleon returns from his exile on the island ...</td>\n",
       "      <td>napoleon return exil island elba march colouris</td>\n",
       "    </tr>\n",
       "    <tr>\n",
       "      <th>59149</th>\n",
       "      <td>59149</td>\n",
       "      <td>Deep down he always wanted to be a ballet dancer</td>\n",
       "      <td>deep alway want ballet dancer</td>\n",
       "    </tr>\n",
       "    <tr>\n",
       "      <th>59150</th>\n",
       "      <td>59150</td>\n",
       "      <td>Toddler miraculously survives 6-story fall lan...</td>\n",
       "      <td>toddler miracul surviv stori fall land car</td>\n",
       "    </tr>\n",
       "  </tbody>\n",
       "</table>\n",
       "<p>59151 rows × 3 columns</p>\n",
       "</div>"
      ],
      "text/plain": [
       "          id                                               text  \\\n",
       "0          0                                         stargazer    \n",
       "1          1                                               yeah   \n",
       "2          2  PD: Phoenix car thief gets instructions from Y...   \n",
       "3          3  As Trump Accuses Iran, He Has One Problem: His...   \n",
       "4          4                       \"Believers\" - Hezbollah 2011   \n",
       "...      ...                                                ...   \n",
       "59146  59146                  Bicycle taxi drivers of New Delhi   \n",
       "59147  59147  Trump blows up GOP's formula for winning House...   \n",
       "59148  59148  Napoleon returns from his exile on the island ...   \n",
       "59149  59149   Deep down he always wanted to be a ballet dancer   \n",
       "59150  59150  Toddler miraculously survives 6-story fall lan...   \n",
       "\n",
       "                                            text_clean  \n",
       "0                                              stargaz  \n",
       "1                                                 yeah  \n",
       "2       pd phoenix car thief get instruct youtub video  \n",
       "3                 trump accus iran one problem credibl  \n",
       "4                                     believ hezbollah  \n",
       "...                                                ...  \n",
       "59146                     bicycl taxi driver new delhi  \n",
       "59147             trump blow gop formula win hous race  \n",
       "59148  napoleon return exil island elba march colouris  \n",
       "59149                    deep alway want ballet dancer  \n",
       "59150       toddler miracul surviv stori fall land car  \n",
       "\n",
       "[59151 rows x 3 columns]"
      ]
     },
     "execution_count": 40,
     "metadata": {},
     "output_type": "execute_result"
    }
   ],
   "source": [
    "# show the testing data\n",
    "df_test"
   ]
  },
  {
   "cell_type": "code",
   "execution_count": 41,
   "id": "2b2c6c69",
   "metadata": {},
   "outputs": [],
   "source": [
    "# set the tect_clean feature and label to values in training data \n",
    "X = df_train[\"text_clean\"]\n",
    "Y = df_train[\"label\"]"
   ]
  },
  {
   "cell_type": "markdown",
   "id": "381b6a20",
   "metadata": {},
   "source": [
    "### Functions\n",
    "I'll do functions because I'll be using them a lot and don't want to repeat the code. such as create pipline and set multiple classifiers and fit them, predict the testing set and record the probability of prediction in csv file."
   ]
  },
  {
   "cell_type": "code",
   "execution_count": 20,
   "id": "3d13ff70",
   "metadata": {},
   "outputs": [],
   "source": [
    "# Make a Function to Pipeline vectorizer and my_classifier\n",
    "# combine the vectorizer with the model as a full tunable pipeline\n",
    "# we gave them a name so we can set their hyperparameters\n",
    "\n",
    "def create_fit_pipeline(my_classifier):\n",
    "  full_pipeline = Pipeline(\n",
    "      steps=[\n",
    "          (\"vectorizer\", TfidfVectorizer(norm=\"l2\")), \n",
    "          ('my_classifier', my_classifier)\n",
    "      ]\n",
    "  )\n",
    "  # The pipeline object can be used like any sk-learn model and training it \n",
    "  full_pipeline = full_pipeline.fit(X, Y)\n",
    "  return full_pipeline"
   ]
  },
  {
   "cell_type": "code",
   "execution_count": 21,
   "id": "311c1098",
   "metadata": {},
   "outputs": [],
   "source": [
    "# Make Funiction to prediction the pipeline\n",
    "def predict_pipeline(full_pipeline):\n",
    "  # prediction the df_test\n",
    "  y_pred = full_pipeline.predict(df_test)\n",
    "  # Show unique and count values\n",
    "  return pd.DataFrame(y_pred).value_counts()"
   ]
  },
  {
   "cell_type": "code",
   "execution_count": 22,
   "id": "4684a70c",
   "metadata": {},
   "outputs": [],
   "source": [
    "# Make a Function for predict the testing data and save it in the csv file\n",
    "def predict_save_csv(search_model, classifier_name):\n",
    "  submission = pd.DataFrame()\n",
    "  submission['id'] = df_test.index\n",
    "  submission['label'] = search_model.predict_proba(df_test.text_clean)[:,1]\n",
    "  file_name = 'Compition_3_' + classifier_name + '.csv'\n",
    "  submission.to_csv(file_name, index=False)"
   ]
  },
  {
   "cell_type": "code",
   "execution_count": 23,
   "id": "385e461a",
   "metadata": {},
   "outputs": [],
   "source": [
    "# Further split the original training set to a train and a validation set\n",
    "X_train2, X_val, y_train2, y_val = train_test_split(\n",
    "    X, Y, train_size = 0.8, stratify = Y, random_state = 42)\n",
    "\n",
    "# Create a list where train data indices are -1 and validation data indices are 0\n",
    "# X_train2 (new training set), X_train\n",
    "split_index = [-1 if x in X_train2.index else 0 for x in X.index]\n",
    "\n",
    "# Use the list to create PredefinedSplit\n",
    "pds = PredefinedSplit(test_fold = split_index)"
   ]
  },
  {
   "cell_type": "markdown",
   "id": "724c411b",
   "metadata": {},
   "source": [
    "### Tuning Methods\n",
    "Tuning Methods (Grid Search, Random Search, Bayisen Search) are available in the scikit-learn class model_selection. It can be initiated by creating an object.\n",
    "\n",
    "- Parameters of Tuning Methods (Grid Search, Random Search, Bayisen Search) method are:\n",
    "\n",
    "- estimator: (object) a scikit-learn model.\n",
    "\n",
    "- param_grid: (dict or list of dictionaries) This enables searching over any sequence of parameter settings.\n",
    "\n",
    "- scoring: (str, callable, list, tuple or dict) Strategy to evaluate the performance of the cross-validated model on the test set.\n",
    "\n",
    "- n_jobs: (int) Number of jobs to run in parallel.\n"
   ]
  },
  {
   "cell_type": "markdown",
   "id": "3a96e93b",
   "metadata": {},
   "source": [
    "### Grid Search\n",
    "Grid search is the process of performing hyperparameter tuning in order to determine the optimal values for a given model. The performance of a model significantly depends on the value of hyperparameters.\n",
    "\n",
    "Grid Search uses a different combination of all the specified hyperparameters and their values and calculates the performance for each combination and selects the best value for the hyperparameters. This makes the processing time-consuming and expensive based on the number of hyperparameters involved.\n",
    "\n",
    "I will create function to create object from Grid Search, fit them and get the best score."
   ]
  },
  {
   "cell_type": "code",
   "execution_count": 24,
   "id": "4e1c0cc0",
   "metadata": {},
   "outputs": [],
   "source": [
    "# Make Function to create and fit the Grid Search to pipeline\n",
    "\n",
    "def create_fit_grid_search(full_pipeline, param_grid, cv):\n",
    "  # cv means number of K-fold cross-validation or validation set\n",
    "  # n_jobs means the cucurrent number of jobs (on colab since we only have two cpu cores, we set it to 2)\n",
    "\n",
    "  grid_search = GridSearchCV(\n",
    "      full_pipeline, param_grid, cv=cv, verbose=1, n_jobs=2, \n",
    "      scoring='roc_auc') # create object GridSearchCV\n",
    "\n",
    "  grid_search.fit(X, Y) # train the gridsearch\n",
    "\n",
    "  print('best score {}'.format(grid_search.best_score_)) # print the best score of model\n",
    "  print('best score {}'.format(grid_search.best_params_)) # print the best hyperparameters of model\n",
    "  return grid_search"
   ]
  },
  {
   "cell_type": "markdown",
   "id": "7175d601",
   "metadata": {},
   "source": [
    "### Random Search\n",
    "Random search methods are stochastic approaches that rely entirely on the random sampling of a succession of points in the problem's feasible region, according to a predetermined probability distribution or sequence of probability distributions.\n",
    "\n",
    "I will create function to create object from Random Search, fit them and get the best score."
   ]
  },
  {
   "cell_type": "code",
   "execution_count": 25,
   "id": "48bed05e",
   "metadata": {},
   "outputs": [],
   "source": [
    "# Make Function to create and fit the Random Search to pipeline\n",
    "\n",
    "def create_fit_random_search(full_pipeline, param_random, cv):\n",
    "  # cv= cv means cv-fold cross-validation or validation set\n",
    "  # n_jobs means the cucurrent number of jobs\n",
    "  # (on colab since we only have two cpu cores, we set it to 2)\n",
    "  random_search = RandomizedSearchCV(\n",
    "      full_pipeline, param_random, cv=cv, verbose=1, n_jobs=2, \n",
    "      # number of random trials\n",
    "      n_iter=5,\n",
    "      scoring='roc_auc')\n",
    "\n",
    "  random_search.fit(X, Y)\n",
    "\n",
    "  print('best score {}'.format(random_search.best_score_)) # print the best score of model\n",
    "  print('best score {}'.format(random_search.best_params_)) # print the best hyperparameters of model\n",
    "  return random_search"
   ]
  },
  {
   "cell_type": "markdown",
   "id": "b360e10d",
   "metadata": {},
   "source": [
    "### Bayesian Search\n",
    "This model is called a surrogate for the objective function. The surrogate is much easier to optimize than the objective function and Bayesian methods work by finding the next set of hyperparameters to evaluate on the actual objective function by selecting hyperparameters that perform best on the surrogate function.\n",
    "\n",
    "Bayesian Search keeps track of previous assessment results, which they use to create a probabilistic model that maps hyperparameters to the likelihood of a score on the objective function.\n",
    "\n",
    "\n",
    "This method advocates the usage of intelligence to pick the next set of hyperparameters which will improve the model performance. We iteratively repeat this process until we converge to an optimum.\n",
    "\n",
    "I will create function to create object from Bayesian Search, fit them and get the best score."
   ]
  },
  {
   "cell_type": "code",
   "execution_count": 26,
   "id": "a668d330",
   "metadata": {},
   "outputs": [],
   "source": [
    "# Make Function to create and fit the Bayesian Search to pipeline\n",
    "\n",
    "def create_fit_bayesian_search(full_pipeline, param_bayesian, cv):\n",
    "  # cv= cv means cv-fold cross-validation or validation set\n",
    "  # n_jobs means the cucurrent number of jobs\n",
    "  # (on colab since we only have two cpu cores, we set it to 2)\n",
    "    Bayes_search = BayesSearchCV(\n",
    "      full_pipeline, param_bayesian, cv=cv, verbose=1, n_jobs=2, \n",
    "      # number of Bayes trials\n",
    "      n_iter=5)\n",
    "\n",
    "    Bayes_search.fit(X, Y)\n",
    "\n",
    "    print('best score {}'.format(Bayes_search.best_score_)) # print the best score of model\n",
    "    print('best score {}'.format(Bayes_search.best_params_)) # print the best hyperparameters of model\n",
    "    return Bayes_search"
   ]
  },
  {
   "cell_type": "markdown",
   "id": "600f138a",
   "metadata": {},
   "source": [
    "### Different trials on model tuning"
   ]
  },
  {
   "cell_type": "markdown",
   "id": "8e79de1f",
   "metadata": {},
   "source": [
    "### 1* XGBoost\n",
    "\n",
    "It is the top machine learning library for regression, classification, and ranking tasks.\n",
    "\n",
    "- It includes parallel tree boosting.\n",
    "- It supports regularization.\n",
    "- It is designed to handle missing data with its in-build features.\n",
    "- The user can run a cross-validation after each iteration.\n",
    "- It works well in small to medium dataset.\n",
    "- It is designed to be highly efficient, flexible and portable.\n",
    "- It has a distributed weighted quantile sketch algorithm to effectively handle weighted data.\n",
    "- To develop a model, the XGBoost classifier contains a lot of hyperparameters. I'll use some of them to assist us enhance the model and score.\n",
    "\n",
    "The hyperparameters are:\n",
    "\n",
    "- learning_rate: Learning rate reduces each tree's contribution by learning rate. Between learning rate and n estimators, there is a trade-off.\n",
    "- n_estimators: The number of boosting stages to perform. Gradient boosting is fairly robust to over-fitting so a large number usually results in better performance.\n",
    "- subsample: The percentage of samples that will be used to fit particular base learners. Stochastic Gradient Boosting occurs when the value is less than 1.0. The parameter n estimators interacts with subsample. Choosing subsample < 1.0 leads to a reduction of variance and an increase in bias.\n",
    "- colsample_bytree: Subsample ratio of columns when constructing each tree.\n",
    "- nthread: Number of threads to use for loading data when parallelization is applicable. If -1, uses maximum threads available on the system.\n",
    "- objective: Specify the learning task and the corresponding learning objective or a custom objective function to be used.\n",
    "- silent: Whether print messages during construction.\n",
    "- random_state: Controls the random seed given to each Tree estimator at each boosting iteration. In addition, it controls the random permutation of the features at each split (see Notes for more details). It also controls the random splitting of the training data to obtain a validation set if n_iter_no_change is not None. Pass an int for reproducible output across multiple function calls."
   ]
  },
  {
   "cell_type": "code",
   "execution_count": 27,
   "id": "041faf3d",
   "metadata": {},
   "outputs": [
    {
     "name": "stdout",
     "output_type": "stream",
     "text": [
      "[20:52:15] WARNING: C:/buildkite-agent/builds/buildkite-windows-cpu-autoscaling-group-i-0fc7796c793e6356f-1/xgboost/xgboost-ci-windows/src/learner.cc:767: \n",
      "Parameters: { \"silent\" } are not used.\n",
      "\n"
     ]
    },
    {
     "data": {
      "text/plain": [
       "0    3\n",
       "dtype: int64"
      ]
     },
     "execution_count": 27,
     "metadata": {},
     "output_type": "execute_result"
    }
   ],
   "source": [
    "# for the create pipeline with my classifier is XGBoost Classifier\n",
    "full_pipeline_XGB = create_fit_pipeline(XGBClassifier(objective='binary:logistic', silent=True, random_state= 42))\n",
    "# prediction the pipeline\n",
    "predict_pipeline(full_pipeline_XGB)"
   ]
  },
  {
   "cell_type": "markdown",
   "id": "b7488c65",
   "metadata": {},
   "source": [
    "### 1- Random Search with Validation set"
   ]
  },
  {
   "cell_type": "code",
   "execution_count": 28,
   "id": "8504f8d5",
   "metadata": {},
   "outputs": [],
   "source": [
    " #hyperparameter for XGBoost Classifier\n",
    "# here we specify the search space \n",
    "# `__` denotes an attribute of the preceeding name\n",
    "# (e.g. my_classifier__n_estimators means the `n_estimators` param for `my_classifier`)\n",
    "param_XGB = {\n",
    "    'vectorizer__analyzer': [\"word\"], \n",
    "    'vectorizer__max_df': [0.3, 0.4, 0.5, 0.6, 0.7, 0.8],\n",
    "    # 'vectorizer__ngram_range' : [(1, 2)],\n",
    "    'vectorizer__min_df': [5, 10, 15, 20, 25, 30],\n",
    "    \n",
    "\n",
    "    'my_classifier__learning_rate' : [0.005, 0.001, 0.01, 0.02, 0.03, 0.05, 0.1, 0.2, 0.3],\n",
    "    'my_classifier__n_estimators' : [600,1000, 1100, 1500, 2000, 3000, 4000],\n",
    "#    'my_classifier__nthread' : [1, 2, 3, 4, 5, 6, 7, 8, 9],\n",
    "#     'my_classifier__min_child_weight': [1, 5, 10],\n",
    "#     'my_classifier__gamma': [0.4, 0.5, 0.6, 1, 1.5, 2, 2.5, 3, 5],\n",
    "   # 'my_classifier__subsample': [0.05, 0.2, 0.3, 0.6, 0.8, 0.9],\n",
    "    'my_classifier__colsample_bytree': [0.5, 0.6, 0.7, 0.8, 0.9, 1.0],\n",
    "#     'my_classifier__max_depth': np.arange(3, 20),\n",
    "#     'my_classifier__random_state' : [0, 1, 42, 15]\n",
    "}"
   ]
  },
  {
   "cell_type": "code",
   "execution_count": 43,
   "id": "ea2f9e81",
   "metadata": {},
   "outputs": [
    {
     "name": "stdout",
     "output_type": "stream",
     "text": [
      "Fitting 1 folds for each of 5 candidates, totalling 5 fits\n",
      "[23:10:14] WARNING: C:/buildkite-agent/builds/buildkite-windows-cpu-autoscaling-group-i-0fc7796c793e6356f-1/xgboost/xgboost-ci-windows/src/learner.cc:767: \n",
      "Parameters: { \"silent\" } are not used.\n",
      "\n",
      "best score 0.8588668543914059\n",
      "best score {'vectorizer__min_df': 15, 'vectorizer__max_df': 0.3, 'vectorizer__analyzer': 'word', 'my_classifier__n_estimators': 4000, 'my_classifier__learning_rate': 0.03, 'my_classifier__colsample_bytree': 0.6}\n",
      "Best: 0.858867 using {'vectorizer__min_df': 15, 'vectorizer__max_df': 0.3, 'vectorizer__analyzer': 'word', 'my_classifier__n_estimators': 4000, 'my_classifier__learning_rate': 0.03, 'my_classifier__colsample_bytree': 0.6}\n"
     ]
    }
   ],
   "source": [
    "# using the create_fit_random_search function and it will return bayesian_search for XGBoost and it will use the (X) and (Y)\n",
    "random_search_XGB = create_fit_random_search(full_pipeline_XGB, param_XGB, pds)\n",
    "print(\"Best: %f using %s\" % (random_search_XGB.best_score_, random_search_XGB.best_params_))"
   ]
  },
  {
   "cell_type": "code",
   "execution_count": 44,
   "id": "45d4e250",
   "metadata": {},
   "outputs": [],
   "source": [
    "# using the predict_save_csv function and it will predict the testing data and save it in the csv file\n",
    "predict_save_csv(random_search_XGB, 'XGB_random_Cross')"
   ]
  },
  {
   "cell_type": "markdown",
   "id": "4d08d97a",
   "metadata": {},
   "source": [
    "##### observations:\n",
    "\n",
    "The best hyperparameters for this model will be:\n",
    "\n",
    "- objective: binary:logistic\n",
    "\n",
    "- silent: True\n",
    "\n",
    "- random_state: 42\n",
    "\n",
    "- analyzer: word\n",
    "\n",
    "- max_df: 0.3\n",
    "\n",
    "- min_df: 15\n",
    "\n",
    "- learning_rate: 0.03\n",
    "\n",
    "- n_estimators: 4000\n",
    "\n",
    "- colsample_bytree: 0.6\n",
    "\n",
    "with best score 0.8588668543914059"
   ]
  },
  {
   "cell_type": "markdown",
   "id": "f5806cfc",
   "metadata": {},
   "source": [
    "## 2* Random Forest\n",
    "Random forests are a type of ensemble method. An ensemble method is a process in which numerous models are fitted and the results are combined for stronger predictions. While this provides great predictions, inference and explainability are often limited. Random forests are composed of a number of decision trees where the included predictors are chosen at random. The name comes from randomly building trees to make a forest.\n",
    "\n",
    "We can create a random forest just like we created a decision tree, except now we are also specifying parameters that indicate how many trees should be in the forest, how we should subset the data items (the rows), and how we should subset the fields (the columns).\n",
    "\n",
    "In the following function definition, n_estimators defines the number of trees we want,max_samples defines how many rows to sample for training each tree, and max_features defines how many columns to sample at each split point (where 0.5 means “take half the total number of columns”). We can also specify when to stop splitting the tree nodes, effectively limiting the depth of the tree, by including the same min_samples_leaf parameter we used in the preceding section. Finally, we pass n_jobs=-1 to tell sklearn to use all our CPUs to build the trees in parallel."
   ]
  },
  {
   "cell_type": "code",
   "execution_count": 42,
   "id": "ee44eae4",
   "metadata": {},
   "outputs": [],
   "source": [
    "# for the create pipeline with my classifier is RandomForestClassifier\n",
    "full_pipeline_Randomforst = create_fit_pipeline(RandomForestClassifier())"
   ]
  },
  {
   "cell_type": "markdown",
   "id": "6a424783",
   "metadata": {},
   "source": [
    "### 2- Random Search with Validation set"
   ]
  },
  {
   "cell_type": "code",
   "execution_count": 27,
   "id": "c0b32220",
   "metadata": {},
   "outputs": [],
   "source": [
    "# hyperparameter for RandomForestClassifier\n",
    "# here we specify the search space \n",
    "# `__` denotes an attribute of the preceeding name\n",
    "# (e.g. my_classifier__n_estimators means the `n_estimators` param for `my_classifier`)\n",
    "param_RandomForest = {\n",
    "    'vectorizer__analyzer': [\"word\"], \n",
    "    'vectorizer__max_df': np.arange(0.3, 0.8),\n",
    "    'vectorizer__min_df': range(5, 30, 5),\n",
    "    #'vectorizer__ngram_range': [(1, 2)], \n",
    "\n",
    "\n",
    "\n",
    "    'my_classifier__n_estimators': range(500, 1000, 100),\n",
    "    'my_classifier__criterion' :['gini', 'entropy'],\n",
    "#     'my_classifier__max_features' : ['auto', 'sqrt', 'log2'],\n",
    "     # my_classifier__n_estimators points to my_classifier->n_estimators \n",
    "    # 'my_classifier__max_depth': [100, 200, 400, 600, 2000]       \n",
    "}"
   ]
  },
  {
   "cell_type": "code",
   "execution_count": 47,
   "id": "6e1c3116",
   "metadata": {},
   "outputs": [
    {
     "name": "stdout",
     "output_type": "stream",
     "text": [
      "Fitting 1 folds for each of 5 candidates, totalling 5 fits\n",
      "best score 0.8700595512880348\n",
      "best score {'vectorizer__min_df': 10, 'vectorizer__max_df': 0.5, 'vectorizer__analyzer': 'word', 'my_classifier__n_estimators': 700, 'my_classifier__max_features': 'log2', 'my_classifier__criterion': 'entropy'}\n"
     ]
    }
   ],
   "source": [
    "# using the create_fit_Random_search function and it will return Random_search for Random Forest and it will use the (X) and (Y)\n",
    "random_search_RF = create_fit_random_search(full_pipeline_Randomforst, param_RandomForest, pds)"
   ]
  },
  {
   "cell_type": "code",
   "execution_count": 48,
   "id": "089a7b8f",
   "metadata": {},
   "outputs": [],
   "source": [
    "# using the predict_save_csv function and it will predict the testing data and save it in the csv file\n",
    "predict_save_csv(random_search_RF, 'RF_random_Validation')"
   ]
  },
  {
   "cell_type": "markdown",
   "id": "d10a33ff",
   "metadata": {},
   "source": [
    "observations:\n",
    "\n",
    "The best hyperparameters for this model will be:\n",
    "\n",
    "- analyzer: word\n",
    "\n",
    "- max_df: 0.5\n",
    "\n",
    "- min_df: 10\n",
    "\n",
    "- n_estimators: 700\n",
    "\n",
    "- criterion: entropy\n",
    "\n",
    "with best score 0.8700595512880348"
   ]
  },
  {
   "cell_type": "markdown",
   "id": "28a56e86",
   "metadata": {},
   "source": [
    "### 3- Bayesian Search with Cross Validation"
   ]
  },
  {
   "cell_type": "code",
   "execution_count": 46,
   "id": "47d82b5c",
   "metadata": {},
   "outputs": [],
   "source": [
    "# hyperparameter for RandomForestClassifier\n",
    "# here we specify the search space \n",
    "# `__` denotes an attribute of the preceeding name\n",
    "# (e.g. my_classifier__n_estimators means the `n_estimators` param for `my_classifier`)\n",
    "param_RandomForest = {\n",
    "    'vectorizer__analyzer': [\"word\"], \n",
    "    'vectorizer__max_df': [ 0.4, 0.5, 0.6, 0.7],\n",
    "    'vectorizer__min_df': [5, 10, 15, 20],\n",
    "    # 'vectorizer__ngram_range': [(1, 2)], \n",
    "\n",
    "\n",
    "\n",
    "    'my_classifier__n_estimators': [500, 600, 700],\n",
    "    'my_classifier__criterion' :['gini', 'entropy'],\n",
    "    'my_classifier__max_features' : ['sqrt', 'log2'],\n",
    "     # my_classifier__n_estimators points to my_classifier->n_estimators \n",
    "    # 'my_classifier__max_depth': [100, 200, 400, 600, 2000]       \n",
    "}"
   ]
  },
  {
   "cell_type": "code",
   "execution_count": 44,
   "id": "204682af",
   "metadata": {},
   "outputs": [
    {
     "name": "stdout",
     "output_type": "stream",
     "text": [
      "Fitting 10 folds for each of 1 candidates, totalling 10 fits\n",
      "Fitting 10 folds for each of 1 candidates, totalling 10 fits\n",
      "Fitting 10 folds for each of 1 candidates, totalling 10 fits\n",
      "Fitting 10 folds for each of 1 candidates, totalling 10 fits\n",
      "Fitting 10 folds for each of 1 candidates, totalling 10 fits\n",
      "best score 0.7803003744384711\n",
      "best score OrderedDict([('my_classifier__criterion', 'entropy'), ('my_classifier__max_features', 'log2'), ('my_classifier__n_estimators', 500), ('vectorizer__analyzer', 'word'), ('vectorizer__max_df', 0.6), ('vectorizer__min_df', 10)])\n"
     ]
    }
   ],
   "source": [
    "bayesian_search_RF = create_fit_bayesian_search(full_pipeline_Randomforst, param_RandomForest,10)"
   ]
  },
  {
   "cell_type": "code",
   "execution_count": 45,
   "id": "36b8c5b9",
   "metadata": {},
   "outputs": [],
   "source": [
    "# using the predict_save_csv function and it will predict the testing data and save it in the csv file\n",
    "predict_save_csv(bayesian_search_RF, 'RF_bayesian_Cross')"
   ]
  },
  {
   "cell_type": "markdown",
   "id": "786542e6",
   "metadata": {},
   "source": [
    "observations:\n",
    "\n",
    "The best hyperparameters for this model will be:\n",
    "\n",
    "- analyzer: word\n",
    "\n",
    "- max_df: 0.6\n",
    "\n",
    "- min_df: 10\n",
    "\n",
    "- n_estimators: 500\n",
    "\n",
    "- criterion: entropy\n",
    "\n",
    "- max_features: log2\n",
    "\n",
    "- CV: 10\n",
    "\n",
    "with best score 0.7803003744384711"
   ]
  },
  {
   "cell_type": "markdown",
   "id": "c42eac28",
   "metadata": {},
   "source": [
    "### 3* Logistic Regression\n",
    "\n",
    "Logistic regression is used to handle the classification problems.\n",
    "\n",
    "It is used in statistical software to understand the relationship between the dependent variable and one or more independent variables by estimating probabilities using a logistic regression equation.\n",
    "\n",
    "It is often used for predictive analytics and modeling, and extends to applications in machine learning. Logistic regression is easier to implement, interpret, and very efficient to train."
   ]
  },
  {
   "cell_type": "code",
   "execution_count": 33,
   "id": "6353d568",
   "metadata": {},
   "outputs": [],
   "source": [
    "from sklearn.linear_model import LogisticRegression\n",
    "# for the create pipeline with my classifier is Logistic Regression Classifier\n",
    "full_pipeline_Log = create_fit_pipeline(LogisticRegression(random_state = 42))"
   ]
  },
  {
   "cell_type": "markdown",
   "id": "dedff551",
   "metadata": {},
   "source": [
    "### 4- Grid Search With Validation set"
   ]
  },
  {
   "cell_type": "code",
   "execution_count": 34,
   "id": "0438f1b2",
   "metadata": {},
   "outputs": [],
   "source": [
    "# hyperparameter for Logistic Regression Classifier\n",
    "# here we specify the search space \n",
    "# `__` denotes an attribute of the preceeding name\n",
    "# (e.g. my_classifier__n_estimators means the `n_estimators` param for `my_classifier`)\n",
    "param_Log = {\n",
    "    'vectorizer__analyzer': [\"word\",\"char\"], \n",
    "    'vectorizer__max_df': [0.3, 0.4, 0.5, 0.6, 0.7, 0.8],\n",
    "    'vectorizer__min_df': [5, 10, 15, 20, 25, 30, 35, 40, 50],\n",
    "    \n",
    "    'my_classifier__penalty' : ['l1', 'l2', 'elasticnet'],\n",
    "    'my_classifier__C' : [0.001,0.01, 0.02, 0.03, 0.04, 0.05, 0.06, 0.1, 1],\n",
    "    'my_classifier__solver' : ['newton-cg', 'sag', 'saga', 'lbfgs']\n",
    "}"
   ]
  },
  {
   "cell_type": "code",
   "execution_count": 35,
   "id": "e368e878",
   "metadata": {},
   "outputs": [
    {
     "name": "stdout",
     "output_type": "stream",
     "text": [
      "Fitting 1 folds for each of 11664 candidates, totalling 11664 fits\n",
      "best score 0.8694314604080866\n",
      "best score {'my_classifier__C': 1, 'my_classifier__penalty': 'l2', 'my_classifier__solver': 'sag', 'vectorizer__analyzer': 'word', 'vectorizer__max_df': 0.3, 'vectorizer__min_df': 5}\n"
     ]
    }
   ],
   "source": [
    "grid_search_LogReg = create_fit_grid_search(full_pipeline_Log, param_Log, pds)"
   ]
  },
  {
   "cell_type": "code",
   "execution_count": 36,
   "id": "acaf7d8a",
   "metadata": {},
   "outputs": [],
   "source": [
    "predict_save_csv(grid_search_LogReg, 'LR_grid_val')"
   ]
  },
  {
   "cell_type": "markdown",
   "id": "580ece90",
   "metadata": {},
   "source": [
    "observations:\n",
    "\n",
    "The best hyperparameters for this model will be:\n",
    "\n",
    "- analyzer: word\n",
    "\n",
    "- max_df: 0.3\n",
    "\n",
    "- min_df: 5\n",
    "\n",
    "- penalty: l2\n",
    "\n",
    "- C: 1\n",
    "\n",
    "- solver: sag\n",
    " \n",
    " with best score 0.8694314604080866"
   ]
  },
  {
   "cell_type": "markdown",
   "id": "3d56922c",
   "metadata": {},
   "source": [
    "## 4*MLPClassifier"
   ]
  },
  {
   "cell_type": "code",
   "execution_count": 27,
   "id": "61e6b562",
   "metadata": {},
   "outputs": [],
   "source": [
    "from sklearn.neural_network import MLPClassifier\n",
    "# for the create pipeline with my classifier is Logistic Regression Classifier\n",
    "full_pipeline_MLP = create_fit_pipeline(MLPClassifier(random_state=20))"
   ]
  },
  {
   "cell_type": "markdown",
   "id": "85edbc66",
   "metadata": {},
   "source": [
    "### 5- Random Search With Validation set"
   ]
  },
  {
   "cell_type": "code",
   "execution_count": 31,
   "id": "b35dc800",
   "metadata": {},
   "outputs": [],
   "source": [
    "params_MLP = {\n",
    "    #Hyperparameter for TFIDFVectorizer  \n",
    "    \"vectorizer__ngram_range\": [(1, 2),(1,3)], # (1, 3)\n",
    "    \"vectorizer__max_df\": [0.7,0.8],    #0.3,0.5,,0.9\n",
    "    \"vectorizer__min_df\": [8,10],\n",
    "    \"vectorizer__analyzer\":[\"char\",\"word\"],  #,\"char\"\n",
    "    \"vectorizer__norm\":[\"l2\",\"l1\"],\n",
    "    \n",
    "#     HYPERparamets for \n",
    "    \"my_classifier__solver\":['adam','sgd'], \n",
    "    \"my_classifier__activation\":[\"relu\",\"tanh\"], \n",
    "    \"my_classifier__hidden_layer_sizes\":[(12, 12, 12)],\n",
    "    #\"my_classifier__early_stopping\"=[True],\n",
    "    #\"my_classifier__n_iter_no_change\"=[1]\n",
    "    \n",
    "\n",
    "}\n"
   ]
  },
  {
   "cell_type": "code",
   "execution_count": 32,
   "id": "ad70d093",
   "metadata": {},
   "outputs": [
    {
     "name": "stdout",
     "output_type": "stream",
     "text": [
      "Fitting 1 folds for each of 5 candidates, totalling 5 fits\n",
      "best score 0.7863417370212079\n",
      "best score {'vectorizer__norm': 'l2', 'vectorizer__ngram_range': (1, 2), 'vectorizer__min_df': 10, 'vectorizer__max_df': 0.8, 'vectorizer__analyzer': 'word', 'my_classifier__solver': 'adam', 'my_classifier__hidden_layer_sizes': (12, 12, 12), 'my_classifier__activation': 'tanh'}\n"
     ]
    }
   ],
   "source": [
    "random_search_MLP = create_fit_random_search(full_pipeline_MLP, params_MLP, pds)"
   ]
  },
  {
   "cell_type": "code",
   "execution_count": 35,
   "id": "e63bcc09",
   "metadata": {},
   "outputs": [],
   "source": [
    "predict_save_csv(random_search_MLP, 'MLP_random_Validation')"
   ]
  },
  {
   "cell_type": "markdown",
   "id": "933b2bf6",
   "metadata": {},
   "source": [
    "observations:\n",
    "\n",
    "The best hyperparameters for this model will be:\n",
    "\n",
    "- analyzer: word\n",
    "\n",
    "- max_df: 0.8\n",
    "\n",
    "- min_df: 10\n",
    "\n",
    "- ngram_range: (1, 2)\n",
    "\n",
    "- norm: l2\n",
    "\n",
    "- solver: adam\n",
    "\n",
    "- hidden_layer_sizes: (12, 12, 12) \n",
    "\n",
    "- activation: tanh\n",
    " \n",
    " with best score 0.7863417370212079"
   ]
  },
  {
   "cell_type": "markdown",
   "id": "20a0de7f",
   "metadata": {},
   "source": [
    "## _________________________________________________________________________"
   ]
  },
  {
   "cell_type": "markdown",
   "id": "1df27538",
   "metadata": {},
   "source": [
    "# Questions\n",
    "### 1- What is the difference between Character n-gram and Word n-gram? Which one tends to suffer more from the OOV issue?\n",
    "- Character n-gram is a contiguous series of n characters from a given sample of text or speech, whereas word n-grams is is a contiguous series of n words from a given sample of text or speech, and the one who will suffer from the out-of-vocabulary issue is word n-gram\n",
    "\n",
    "### 2- What is the difference between stop word removal and stemming? Are these techniques language-dependent?\n",
    "- Both, Are the most important preprocessing techniques for text, but the main difference is that the stop word removal totally remove some predefined words that it knows from the sentence and have a list of these words, in other hand, stemming is about to reduce the word and return it to its root, like removing suffix and prefixes not removing the whole word, ex (playing -> play), etc, both are language dependant stop words in English not like in German and vice versa also the grammars in English not like in the German language.\n",
    "\n",
    "### 3- Is tokenization techniques language dependent? Why?\n",
    "- No, It divides a chunk of text into distinct words based on a specific delimiter. Different word-level tokens are created depending on the delimiters, not the language.\n",
    "\n",
    "### 4- What is the difference between count vectorizer and tf-idf vectorizer? Would it be feasible to use all possible n-grams? If not, how should you select them?\n",
    "- count vectorizer used to convert a text into a vector-based on the frequency (count) of each word that appears throughout the text, whereas tf-idf vectorizer it divides into two parts TF which is refer to term frequency where we count how many time that the word appears in the text and then dividing it by the total numbers of words in the whole text, where IDF is about taking the logarithm to the previous result to decrease the weight of a common word in the sentence or document, it wouldn't be feasiable and it would be np-complete problem,but you can select them by using some of search method techniques like (Grid search, random search)."
   ]
  },
  {
   "cell_type": "code",
   "execution_count": null,
   "id": "35af46e8",
   "metadata": {},
   "outputs": [],
   "source": []
  }
 ],
 "metadata": {
  "kernelspec": {
   "display_name": "Python 3 (ipykernel)",
   "language": "python",
   "name": "python3"
  },
  "language_info": {
   "codemirror_mode": {
    "name": "ipython",
    "version": 3
   },
   "file_extension": ".py",
   "mimetype": "text/x-python",
   "name": "python",
   "nbconvert_exporter": "python",
   "pygments_lexer": "ipython3",
   "version": "3.8.16"
  }
 },
 "nbformat": 4,
 "nbformat_minor": 5
}
